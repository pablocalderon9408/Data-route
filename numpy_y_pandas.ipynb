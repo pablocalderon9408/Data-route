{
  "nbformat": 4,
  "nbformat_minor": 0,
  "metadata": {
    "colab": {
      "provenance": [],
      "authorship_tag": "ABX9TyP51u72BSouCRM5TVKmcvH7",
      "include_colab_link": true
    },
    "kernelspec": {
      "name": "python3",
      "display_name": "Python 3"
    },
    "language_info": {
      "name": "python"
    }
  },
  "cells": [
    {
      "cell_type": "markdown",
      "metadata": {
        "id": "view-in-github",
        "colab_type": "text"
      },
      "source": [
        "<a href=\"https://colab.research.google.com/github/pablocalderon9408/Data-route/blob/master/numpy_y_pandas.ipynb\" target=\"_parent\"><img src=\"https://colab.research.google.com/assets/colab-badge.svg\" alt=\"Open In Colab\"/></a>"
      ]
    },
    {
      "cell_type": "markdown",
      "source": [
        "# **Configuration and imports**"
      ],
      "metadata": {
        "id": "WGf__u7m8rHD"
      }
    },
    {
      "cell_type": "code",
      "execution_count": 2,
      "metadata": {
        "id": "IOggHu37zKpl"
      },
      "outputs": [],
      "source": [
        "import numpy as np\n"
      ]
    },
    {
      "cell_type": "markdown",
      "source": [
        "# **Definitions: Getting started**\n",
        "\n",
        "\n"
      ],
      "metadata": {
        "id": "XK66OpGljYo7"
      }
    },
    {
      "cell_type": "code",
      "source": [
        "# Si bien es una matriz, sigue siendo una lista de Python\n",
        "matriz = [[1,2,3], [4,5,6]]\n",
        "print(type(matriz))\n",
        "\n",
        "# Para hacer la creación de objetos de numpy, se usa la sintaxis:\n",
        "np_matriz = np.array(matriz)\n",
        "print(np_matriz)\n",
        "print(type(np_matriz))\n"
      ],
      "metadata": {
        "colab": {
          "base_uri": "https://localhost:8080/"
        },
        "id": "TQp0CB8RgsB3",
        "outputId": "75ca60e0-ae35-45df-ca8a-45831414a5ea"
      },
      "execution_count": 4,
      "outputs": [
        {
          "output_type": "stream",
          "name": "stdout",
          "text": [
            "<class 'list'>\n",
            "[[1 2 3]\n",
            " [4 5 6]]\n",
            "<class 'numpy.ndarray'>\n"
          ]
        }
      ]
    },
    {
      "cell_type": "markdown",
      "source": [
        "# **Indexing and Slicing**"
      ],
      "metadata": {
        "id": "u7ytfjSNjl5h"
      }
    },
    {
      "cell_type": "code",
      "source": [
        "# Indexación y slicing: Siempre es filas x columnas, y siempre empiezan en 0.\n",
        "\n",
        "# Se accede al elemento de la fila 1, en la columna 2 \n",
        "elemento = np_matriz[1,2]\n",
        "\n",
        "# Slicing\n",
        "matriz_recortada = np_matriz[0:1, 1:2]\n",
        "print(matriz_recortada)"
      ],
      "metadata": {
        "colab": {
          "base_uri": "https://localhost:8080/"
        },
        "id": "5r1xNRPLiC89",
        "outputId": "b6458b50-6869-4b23-bcd3-7eb40e0984e1"
      },
      "execution_count": 10,
      "outputs": [
        {
          "output_type": "stream",
          "name": "stdout",
          "text": [
            "[[2]]\n"
          ]
        }
      ]
    },
    {
      "cell_type": "markdown",
      "source": [
        "# **Tipos de datos**\n",
        "\n",
        "##### float64, int8, string, bool"
      ],
      "metadata": {
        "id": "gLKmWTmCx-nv"
      }
    },
    {
      "cell_type": "code",
      "source": [
        "# Durante la creación se puede especificar el tipo de dato que va a contener.\n",
        "arr = np.array([1,2,3,4,5,6,7,8,9], dtype='string_')\n",
        "print(arr.dtype)\n",
        "\n",
        "# También se puede forzar a que cambie el tipo de dato, con astype.\n",
        "arr = arr.astype(np.int8)\n",
        "print(arr.dtype)\n"
      ],
      "metadata": {
        "colab": {
          "base_uri": "https://localhost:8080/"
        },
        "id": "6cMVFsUnyH5i",
        "outputId": "a04c04b6-1008-40f2-801a-2369e03e43fe"
      },
      "execution_count": 14,
      "outputs": [
        {
          "output_type": "stream",
          "name": "stdout",
          "text": [
            "|S1\n",
            "int8\n"
          ]
        }
      ]
    },
    {
      "cell_type": "markdown",
      "source": [
        "# **Dimensiones**\n",
        "###### Escalares, Vectores, Matrices, Tensores."
      ],
      "metadata": {
        "id": "mrfxU8zZzz6Y"
      }
    },
    {
      "cell_type": "code",
      "source": [
        "# Con ndim se encuentra la dimensión del objeto.\n",
        "dimension = arr.ndim\n",
        "\n",
        "# Agregar o eliminar dimensiones: Se puede crear directamente con un número de dimensiones.\n",
        "vector = np.array([1,2,3], ndmin=10)\n",
        "print(f\"Este es el vector: {vector}\")\n",
        "\n",
        "# Se puede expandir en una dirección específica. En las filas o columnas.\n",
        "array = np.array([0,1,2])\n",
        "print(f\"Este es el array: {array}\")\n",
        "\n",
        "# Expandir en filas: axis=0\n",
        "expanded_in_rows = np.expand_dims(array, axis=0)\n",
        "print(f\"Expandido en las filas: {expanded_in_rows}\")\n",
        "\n",
        "# Expandir en columnas: axis=1\n",
        "expanded_in_cols = np.expand_dims(array, axis=1)\n",
        "print(f\"Expandido en las columnas: {expanded_in_cols}\")\n",
        "\n",
        "# Bajar a las dimensiones realmente utilizadas --> np.squeeze(vector)\n",
        "reduced = np.squeeze(vector)\n",
        "print(f\"Reducción a dimensiones usadas {reduced}\")\n",
        "\n"
      ],
      "metadata": {
        "colab": {
          "base_uri": "https://localhost:8080/"
        },
        "id": "lWPZLwPNz_VR",
        "outputId": "2dc2c029-b73c-45b4-c8f7-2b310187b1e9"
      },
      "execution_count": 23,
      "outputs": [
        {
          "output_type": "stream",
          "name": "stdout",
          "text": [
            "Este es el vector: [[[[[[[[[[1 2 3]]]]]]]]]]\n",
            "Este es el array: [0 1 2]\n",
            "Expandido en las filas: [[0 1 2]]\n",
            "Expandido en las columnas: [[0]\n",
            " [1]\n",
            " [2]]\n",
            "Reducción a dimensiones usadas [1 2 3]\n"
          ]
        }
      ]
    },
    {
      "cell_type": "markdown",
      "source": [
        "# **Creación de arrays en Numpy**\n",
        "\n",
        "Crear arreglos aleatorios para trabajar rápidamente."
      ],
      "metadata": {
        "id": "MYQny6hM3NGM"
      }
    },
    {
      "cell_type": "code",
      "source": [
        "# np.arange funciona como el range() de python.\n",
        "np.arange(0,10)\n",
        "\n",
        "# Crear un vector de ceros.\n",
        "np.zeros(3, dtype='int8')\n",
        "\n",
        "# Crear una matriz de ceros.\n",
        "np.zeros((10,5))\n",
        "\n",
        "# Crear matriz de unos.\n",
        "np.ones((10,5))\n",
        "\n",
        "# Crear números entre un rango, hasta una cantidad de elementos.\n",
        "# Números del 0 al 500, 10 elementos.\n",
        "np.linspace(0,500, 10)\n",
        "\n",
        "# Crear una matriz de tamaño N con la diagonal en 1\n",
        "np.eye(10)\n",
        "\n",
        "# Crear una matriz con elementos en un rango, de una tamaño n x m indicado\n",
        "np.random.randint(1,100, (10,5))"
      ],
      "metadata": {
        "colab": {
          "base_uri": "https://localhost:8080/"
        },
        "id": "7Hfd8fAc3eJn",
        "outputId": "b415843b-0e8b-40a8-9d15-3dfcf97ace8c"
      },
      "execution_count": 42,
      "outputs": [
        {
          "output_type": "execute_result",
          "data": {
            "text/plain": [
              "array([[88, 57, 80,  9, 83],\n",
              "       [39, 14, 90, 15,  9],\n",
              "       [72, 38,  9, 53, 84],\n",
              "       [21, 35, 16, 68, 40],\n",
              "       [48, 37, 83, 63, 25],\n",
              "       [54, 50, 90, 79, 71],\n",
              "       [16, 62, 26, 98, 61],\n",
              "       [ 7, 98, 78, 53, 84],\n",
              "       [96, 26,  7, 67, 62],\n",
              "       [45, 58, 58, 27, 16]])"
            ]
          },
          "metadata": {},
          "execution_count": 42
        }
      ]
    },
    {
      "cell_type": "markdown",
      "source": [
        "# **Shape and Reshape**\n",
        "\n",
        "Tamaño y reajuste del tamaño de los objetos."
      ],
      "metadata": {
        "id": "c2fPNcyh6fad"
      }
    },
    {
      "cell_type": "code",
      "source": [
        "arr = np.random.randint(1,50, (7,5))\n",
        "print(arr)\n",
        "\n",
        "# The last parameter is how a language does it. C for C and F for Falcone.\n",
        "# A parameter can be given and it will use the optimized way to do it in the \n",
        "# system.\n",
        "\n",
        "# reshape in rows\n",
        "np.reshape(arr, (5,7), 'C')\n",
        "\n",
        "# reshape in columns\n",
        "np.reshape(arr, (5,7), 'F')"
      ],
      "metadata": {
        "colab": {
          "base_uri": "https://localhost:8080/"
        },
        "id": "BiK8vqF56qa_",
        "outputId": "0f9dbe16-16bc-4d39-d211-f33d989f5f95"
      },
      "execution_count": 48,
      "outputs": [
        {
          "output_type": "stream",
          "name": "stdout",
          "text": [
            "[[ 2 20 14 19 15]\n",
            " [30 19 44 28 40]\n",
            " [14 19 29 10 25]\n",
            " [11 26 48 25 16]\n",
            " [15 24 24 16 16]\n",
            " [15  3  8 26 31]\n",
            " [ 6 36 47  5  7]]\n"
          ]
        },
        {
          "output_type": "execute_result",
          "data": {
            "text/plain": [
              "array([[ 2, 15, 26, 44, 47, 16, 25],\n",
              "       [30,  6, 24, 29, 19, 26, 16],\n",
              "       [14, 20,  3, 48, 28,  5, 16],\n",
              "       [11, 19, 36, 24, 10, 15, 31],\n",
              "       [15, 19, 14,  8, 25, 40,  7]])"
            ]
          },
          "metadata": {},
          "execution_count": 48
        }
      ]
    },
    {
      "cell_type": "markdown",
      "source": [
        "# **Common functions in numpy**"
      ],
      "metadata": {
        "id": "-bKRzSLL_LTY"
      }
    }
  ]
}