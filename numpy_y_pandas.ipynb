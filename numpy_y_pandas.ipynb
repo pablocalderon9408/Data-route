{
  "cells": [
    {
      "attachments": {},
      "cell_type": "markdown",
      "metadata": {
        "colab_type": "text",
        "id": "view-in-github"
      },
      "source": [
        "<a href=\"https://colab.research.google.com/github/pablocalderon9408/Data-route/blob/master/numpy_y_pandas.ipynb\" target=\"_parent\"><img src=\"https://colab.research.google.com/assets/colab-badge.svg\" alt=\"Open In Colab\"/></a>"
      ]
    },
    {
      "attachments": {},
      "cell_type": "markdown",
      "metadata": {
        "id": "WGf__u7m8rHD"
      },
      "source": [
        "# **Configuration and imports**"
      ]
    },
    {
      "cell_type": "code",
      "execution_count": 2,
      "metadata": {
        "id": "IOggHu37zKpl"
      },
      "outputs": [],
      "source": [
        "import numpy as np\n"
      ]
    },
    {
      "attachments": {},
      "cell_type": "markdown",
      "metadata": {
        "id": "XK66OpGljYo7"
      },
      "source": [
        "# **Definitions: Getting started**\n",
        "\n",
        "\n"
      ]
    },
    {
      "cell_type": "code",
      "execution_count": 4,
      "metadata": {
        "colab": {
          "base_uri": "https://localhost:8080/"
        },
        "id": "TQp0CB8RgsB3",
        "outputId": "75ca60e0-ae35-45df-ca8a-45831414a5ea"
      },
      "outputs": [
        {
          "name": "stdout",
          "output_type": "stream",
          "text": [
            "<class 'list'>\n",
            "[[1 2 3]\n",
            " [4 5 6]]\n",
            "<class 'numpy.ndarray'>\n"
          ]
        }
      ],
      "source": [
        "# Si bien es una matriz, sigue siendo una lista de Python\n",
        "matriz = [[1,2,3], [4,5,6]]\n",
        "print(type(matriz))\n",
        "\n",
        "# Para hacer la creación de objetos de numpy, se usa la sintaxis:\n",
        "np_matriz = np.array(matriz)\n",
        "print(np_matriz)\n",
        "print(type(np_matriz))\n"
      ]
    },
    {
      "attachments": {},
      "cell_type": "markdown",
      "metadata": {
        "id": "u7ytfjSNjl5h"
      },
      "source": [
        "# **Indexing and Slicing**"
      ]
    },
    {
      "cell_type": "code",
      "execution_count": 10,
      "metadata": {
        "colab": {
          "base_uri": "https://localhost:8080/"
        },
        "id": "5r1xNRPLiC89",
        "outputId": "b6458b50-6869-4b23-bcd3-7eb40e0984e1"
      },
      "outputs": [
        {
          "name": "stdout",
          "output_type": "stream",
          "text": [
            "[[2]]\n"
          ]
        }
      ],
      "source": [
        "# Indexación y slicing: Siempre es filas x columnas, y siempre empiezan en 0.\n",
        "\n",
        "# Se accede al elemento de la fila 1, en la columna 2 \n",
        "elemento = np_matriz[1,2]\n",
        "\n",
        "# Slicing\n",
        "matriz_recortada = np_matriz[0:1, 1:2]\n",
        "print(matriz_recortada)"
      ]
    },
    {
      "attachments": {},
      "cell_type": "markdown",
      "metadata": {
        "id": "gLKmWTmCx-nv"
      },
      "source": [
        "# **Tipos de datos**\n",
        "\n",
        "##### float64, int8, string, bool"
      ]
    },
    {
      "cell_type": "code",
      "execution_count": 14,
      "metadata": {
        "colab": {
          "base_uri": "https://localhost:8080/"
        },
        "id": "6cMVFsUnyH5i",
        "outputId": "a04c04b6-1008-40f2-801a-2369e03e43fe"
      },
      "outputs": [
        {
          "name": "stdout",
          "output_type": "stream",
          "text": [
            "|S1\n",
            "int8\n"
          ]
        }
      ],
      "source": [
        "# Durante la creación se puede especificar el tipo de dato que va a contener.\n",
        "arr = np.array([1,2,3,4,5,6,7,8,9], dtype='string_')\n",
        "print(arr.dtype)\n",
        "\n",
        "# También se puede forzar a que cambie el tipo de dato, con astype.\n",
        "arr = arr.astype(np.int8)\n",
        "print(arr.dtype)\n"
      ]
    },
    {
      "attachments": {},
      "cell_type": "markdown",
      "metadata": {
        "id": "mrfxU8zZzz6Y"
      },
      "source": [
        "# **Dimensiones**\n",
        "###### Escalares, Vectores, Matrices, Tensores."
      ]
    },
    {
      "cell_type": "code",
      "execution_count": 23,
      "metadata": {
        "colab": {
          "base_uri": "https://localhost:8080/"
        },
        "id": "lWPZLwPNz_VR",
        "outputId": "2dc2c029-b73c-45b4-c8f7-2b310187b1e9"
      },
      "outputs": [
        {
          "name": "stdout",
          "output_type": "stream",
          "text": [
            "Este es el vector: [[[[[[[[[[1 2 3]]]]]]]]]]\n",
            "Este es el array: [0 1 2]\n",
            "Expandido en las filas: [[0 1 2]]\n",
            "Expandido en las columnas: [[0]\n",
            " [1]\n",
            " [2]]\n",
            "Reducción a dimensiones usadas [1 2 3]\n"
          ]
        }
      ],
      "source": [
        "# Con ndim se encuentra la dimensión del objeto.\n",
        "dimension = arr.ndim\n",
        "\n",
        "# Agregar o eliminar dimensiones: Se puede crear directamente con un número de dimensiones.\n",
        "vector = np.array([1,2,3], ndmin=10)\n",
        "print(f\"Este es el vector: {vector}\")\n",
        "\n",
        "# Se puede expandir en una dirección específica. En las filas o columnas.\n",
        "array = np.array([0,1,2])\n",
        "print(f\"Este es el array: {array}\")\n",
        "\n",
        "# Expandir en filas: axis=0\n",
        "expanded_in_rows = np.expand_dims(array, axis=0)\n",
        "print(f\"Expandido en las filas: {expanded_in_rows}\")\n",
        "\n",
        "# Expandir en columnas: axis=1\n",
        "expanded_in_cols = np.expand_dims(array, axis=1)\n",
        "print(f\"Expandido en las columnas: {expanded_in_cols}\")\n",
        "\n",
        "# Bajar a las dimensiones realmente utilizadas --> np.squeeze(vector)\n",
        "reduced = np.squeeze(vector)\n",
        "print(f\"Reducción a dimensiones usadas {reduced}\")\n",
        "\n"
      ]
    },
    {
      "attachments": {},
      "cell_type": "markdown",
      "metadata": {
        "id": "MYQny6hM3NGM"
      },
      "source": [
        "# **Creación de arrays en Numpy**\n",
        "\n",
        "Crear arreglos aleatorios para trabajar rápidamente."
      ]
    },
    {
      "cell_type": "code",
      "execution_count": 42,
      "metadata": {
        "colab": {
          "base_uri": "https://localhost:8080/"
        },
        "id": "7Hfd8fAc3eJn",
        "outputId": "b415843b-0e8b-40a8-9d15-3dfcf97ace8c"
      },
      "outputs": [
        {
          "data": {
            "text/plain": [
              "array([[88, 57, 80,  9, 83],\n",
              "       [39, 14, 90, 15,  9],\n",
              "       [72, 38,  9, 53, 84],\n",
              "       [21, 35, 16, 68, 40],\n",
              "       [48, 37, 83, 63, 25],\n",
              "       [54, 50, 90, 79, 71],\n",
              "       [16, 62, 26, 98, 61],\n",
              "       [ 7, 98, 78, 53, 84],\n",
              "       [96, 26,  7, 67, 62],\n",
              "       [45, 58, 58, 27, 16]])"
            ]
          },
          "execution_count": 42,
          "metadata": {},
          "output_type": "execute_result"
        }
      ],
      "source": [
        "# np.arange funciona como el range() de python.\n",
        "np.arange(0,10)\n",
        "\n",
        "# Crear un vector de ceros.\n",
        "np.zeros(3, dtype='int8')\n",
        "\n",
        "# Crear una matriz de ceros.\n",
        "np.zeros((10,5))\n",
        "\n",
        "# Crear matriz de unos.\n",
        "np.ones((10,5))\n",
        "\n",
        "# Crear números entre un rango, hasta una cantidad de elementos.\n",
        "# Números del 0 al 500, 10 elementos.\n",
        "np.linspace(0,500, 10)\n",
        "\n",
        "# Crear una matriz de tamaño N con la diagonal en 1\n",
        "np.eye(10)\n",
        "\n",
        "# Crear una matriz con elementos en un rango, de una tamaño n x m indicado\n",
        "np.random.randint(1,100, (10,5))"
      ]
    },
    {
      "attachments": {},
      "cell_type": "markdown",
      "metadata": {
        "id": "c2fPNcyh6fad"
      },
      "source": [
        "# **Shape and Reshape**\n",
        "\n",
        "Tamaño y reajuste del tamaño de los objetos."
      ]
    },
    {
      "cell_type": "code",
      "execution_count": 48,
      "metadata": {
        "colab": {
          "base_uri": "https://localhost:8080/"
        },
        "id": "BiK8vqF56qa_",
        "outputId": "0f9dbe16-16bc-4d39-d211-f33d989f5f95"
      },
      "outputs": [
        {
          "name": "stdout",
          "output_type": "stream",
          "text": [
            "[[ 2 20 14 19 15]\n",
            " [30 19 44 28 40]\n",
            " [14 19 29 10 25]\n",
            " [11 26 48 25 16]\n",
            " [15 24 24 16 16]\n",
            " [15  3  8 26 31]\n",
            " [ 6 36 47  5  7]]\n"
          ]
        },
        {
          "data": {
            "text/plain": [
              "array([[ 2, 15, 26, 44, 47, 16, 25],\n",
              "       [30,  6, 24, 29, 19, 26, 16],\n",
              "       [14, 20,  3, 48, 28,  5, 16],\n",
              "       [11, 19, 36, 24, 10, 15, 31],\n",
              "       [15, 19, 14,  8, 25, 40,  7]])"
            ]
          },
          "execution_count": 48,
          "metadata": {},
          "output_type": "execute_result"
        }
      ],
      "source": [
        "arr = np.random.randint(1,50, (7,5))\n",
        "print(arr)\n",
        "\n",
        "# The last parameter is how a language does it. C for C and F for Falcone.\n",
        "# A parameter can be given and it will use the optimized way to do it in the \n",
        "# system.\n",
        "\n",
        "# reshape in rows\n",
        "np.reshape(arr, (5,7), 'C')\n",
        "\n",
        "# reshape in columns\n",
        "np.reshape(arr, (5,7), 'F')"
      ]
    },
    {
      "attachments": {},
      "cell_type": "markdown",
      "metadata": {
        "id": "-bKRzSLL_LTY"
      },
      "source": [
        "# **Common functions in numpy**"
      ]
    },
    {
      "attachments": {},
      "cell_type": "markdown",
      "metadata": {
        "id": "HQCR9lE9Sryu"
      },
      "source": [
        "# **Copy**\n",
        "\n",
        "When you want to slice an object, you must copy slice in order to avoid to overwrite the original one."
      ]
    },
    {
      "cell_type": "code",
      "execution_count": 3,
      "metadata": {
        "colab": {
          "base_uri": "https://localhost:8080/"
        },
        "id": "E28rdOkuSxiQ",
        "outputId": "15de534c-66f1-4231-d89d-f3e9a67f5f64"
      },
      "outputs": [
        {
          "data": {
            "text/plain": [
              "array([ 0,  1,  2,  3,  4,  5,  6,  7,  8,  9, 10])"
            ]
          },
          "execution_count": 3,
          "metadata": {},
          "output_type": "execute_result"
        }
      ],
      "source": [
        "arr = np.arange(0,11)\n",
        "arr"
      ]
    },
    {
      "cell_type": "code",
      "execution_count": 4,
      "metadata": {
        "colab": {
          "base_uri": "https://localhost:8080/"
        },
        "id": "8KfE_BpyTFCm",
        "outputId": "a3a97480-e08b-4fc4-cb92-ebf6384230f2"
      },
      "outputs": [
        {
          "data": {
            "text/plain": [
              "array([0, 1, 2, 3, 4, 5])"
            ]
          },
          "execution_count": 4,
          "metadata": {},
          "output_type": "execute_result"
        }
      ],
      "source": [
        "slicing = arr[0:6]\n",
        "slicing"
      ]
    },
    {
      "cell_type": "code",
      "execution_count": 7,
      "metadata": {
        "colab": {
          "base_uri": "https://localhost:8080/"
        },
        "id": "wezNXzN1TZP8",
        "outputId": "577f867b-88fc-4e94-9907-cf97d8f340ae"
      },
      "outputs": [
        {
          "data": {
            "text/plain": [
              "array([ 0,  0,  0,  0,  0,  0,  6,  7,  8,  9, 10])"
            ]
          },
          "execution_count": 7,
          "metadata": {},
          "output_type": "execute_result"
        }
      ],
      "source": [
        "# When you slice an array, it stills referes in memory to the same object.\n",
        "slicing[:] = 0\n",
        "arr"
      ]
    },
    {
      "cell_type": "code",
      "execution_count": 8,
      "metadata": {
        "colab": {
          "base_uri": "https://localhost:8080/"
        },
        "id": "_CdiYDrrTg0c",
        "outputId": "d70800ff-97f7-4b61-d4e6-56a166151b84"
      },
      "outputs": [
        {
          "data": {
            "text/plain": [
              "array([ 0,  1,  2,  3,  4,  5,  6,  7,  8,  9, 10, 11, 12, 13, 14, 15, 16,\n",
              "       17, 18, 19])"
            ]
          },
          "execution_count": 8,
          "metadata": {},
          "output_type": "execute_result"
        }
      ],
      "source": [
        "arr_2 = np.arange(0,20)\n",
        "arr_2"
      ]
    },
    {
      "cell_type": "code",
      "execution_count": 10,
      "metadata": {
        "colab": {
          "base_uri": "https://localhost:8080/"
        },
        "id": "ZZfNn0ZSUMY9",
        "outputId": "caff1d20-3dbc-492d-be86-fc7e049ba6d3"
      },
      "outputs": [
        {
          "data": {
            "text/plain": [
              "array([10, 10, 10, 10, 10, 10, 10, 10, 10, 10, 10, 11, 12, 13, 14, 15, 16,\n",
              "       17, 18, 19])"
            ]
          },
          "execution_count": 10,
          "metadata": {},
          "output_type": "execute_result"
        }
      ],
      "source": [
        "slice_2 = arr_2.copy()\n",
        "slice_2[:10] = 10\n",
        "slice_2"
      ]
    },
    {
      "cell_type": "code",
      "execution_count": 12,
      "metadata": {
        "colab": {
          "base_uri": "https://localhost:8080/"
        },
        "id": "HdO1U3y2UmNg",
        "outputId": "4d17fbe7-7d37-42a2-899d-d175b6b015e7"
      },
      "outputs": [
        {
          "data": {
            "text/plain": [
              "array([ 0,  1,  2,  3,  4,  5,  6,  7,  8,  9, 10, 11, 12, 13, 14, 15, 16,\n",
              "       17, 18, 19])"
            ]
          },
          "execution_count": 12,
          "metadata": {},
          "output_type": "execute_result"
        }
      ],
      "source": [
        "# The original objects was not overwritten.\n",
        "arr_2"
      ]
    },
    {
      "attachments": {},
      "cell_type": "markdown",
      "metadata": {
        "id": "xH7FyQzgU3Wh"
      },
      "source": [
        "# **Condiciones**\n",
        "Conditions are used to filter arrays and to easily modify them. Lambda functions can be used."
      ]
    },
    {
      "cell_type": "code",
      "execution_count": 14,
      "metadata": {
        "colab": {
          "base_uri": "https://localhost:8080/"
        },
        "id": "Q6jMHjffU9-o",
        "outputId": "5a7aa4ef-2167-4d64-c5d9-3dea9beb162b"
      },
      "outputs": [
        {
          "data": {
            "text/plain": [
              "array([False, False, False, False, False,  True,  True,  True,  True,\n",
              "        True])"
            ]
          },
          "execution_count": 14,
          "metadata": {},
          "output_type": "execute_result"
        }
      ],
      "source": [
        "arr = np.linspace(1, 10, 10, dtype=\"int8\")\n",
        "arr > 5"
      ]
    },
    {
      "cell_type": "code",
      "execution_count": 16,
      "metadata": {
        "colab": {
          "base_uri": "https://localhost:8080/"
        },
        "id": "hHFfHbH5Wmsw",
        "outputId": "490b8ca1-282a-4825-9020-647dcc349b3d"
      },
      "outputs": [
        {
          "data": {
            "text/plain": [
              "array([6, 7, 8], dtype=int8)"
            ]
          },
          "execution_count": 16,
          "metadata": {},
          "output_type": "execute_result"
        }
      ],
      "source": [
        "# Filter by a specific condition\n",
        "arr[(arr>5) & (arr<9)]"
      ]
    },
    {
      "cell_type": "code",
      "execution_count": 17,
      "metadata": {
        "colab": {
          "base_uri": "https://localhost:8080/"
        },
        "id": "M0zpZWoPXC9x",
        "outputId": "ff126fea-e3c8-4e3e-c108-8437f9dc8de8"
      },
      "outputs": [
        {
          "data": {
            "text/plain": [
              "array([ True, False,  True, False,  True, False,  True, False,  True,\n",
              "       False,  True, False,  True, False,  True])"
            ]
          },
          "execution_count": 17,
          "metadata": {},
          "output_type": "execute_result"
        }
      ],
      "source": [
        "# You can use functions as well\n",
        "arr = np.arange(0,15)\n",
        "\n",
        "def number_is_even(num):\n",
        "  return num % 2 == 0\n",
        "\n",
        "number_is_even(arr)"
      ]
    },
    {
      "cell_type": "code",
      "execution_count": 21,
      "metadata": {
        "colab": {
          "base_uri": "https://localhost:8080/"
        },
        "id": "ljxCZ3beXUdp",
        "outputId": "2455bf97-75b8-460a-e878-f70c467be015"
      },
      "outputs": [
        {
          "data": {
            "text/plain": [
              "array([ True, False,  True, False,  True, False,  True, False,  True,\n",
              "       False,  True, False,  True, False,  True])"
            ]
          },
          "execution_count": 21,
          "metadata": {},
          "output_type": "execute_result"
        }
      ],
      "source": [
        "lambda_func = lambda x: x % 2 == 0\n",
        "lambda_func(arr)\n"
      ]
    },
    {
      "attachments": {},
      "cell_type": "markdown",
      "metadata": {
        "id": "UrBpIFLjYtTj"
      },
      "source": [
        "# **Operaciones**"
      ]
    },
    {
      "cell_type": "code",
      "execution_count": 26,
      "metadata": {
        "colab": {
          "base_uri": "https://localhost:8080/"
        },
        "id": "JKXt_aA9ZPHY",
        "outputId": "0beb3b69-2cb1-4618-f0d9-ef63a0692c37"
      },
      "outputs": [
        {
          "data": {
            "text/plain": [
              "array([0, 1, 2, 3, 4, 5, 6, 7, 8, 9])"
            ]
          },
          "execution_count": 26,
          "metadata": {},
          "output_type": "execute_result"
        }
      ],
      "source": [
        "arr = np.arange(0,10)\n",
        "arr"
      ]
    },
    {
      "cell_type": "code",
      "execution_count": 24,
      "metadata": {
        "colab": {
          "base_uri": "https://localhost:8080/"
        },
        "id": "pBnmKyShY02x",
        "outputId": "05c9a8b2-2c94-4204-e633-ba435511d84a"
      },
      "outputs": [
        {
          "data": {
            "text/plain": [
              "array([ 0,  2,  4,  6,  8, 10, 12, 14, 16, 18])"
            ]
          },
          "execution_count": 24,
          "metadata": {},
          "output_type": "execute_result"
        }
      ],
      "source": [
        "arr_2 = arr.copy()\n",
        "arr_2 * 2"
      ]
    },
    {
      "cell_type": "code",
      "execution_count": 27,
      "metadata": {
        "colab": {
          "base_uri": "https://localhost:8080/"
        },
        "id": "oVwUA5o3ZZlx",
        "outputId": "eda94515-5efa-413d-9890-d5b225948487"
      },
      "outputs": [
        {
          "name": "stderr",
          "output_type": "stream",
          "text": [
            "<ipython-input-27-e66ae8057bc3>:1: RuntimeWarning: divide by zero encountered in true_divide\n",
            "  1 / arr\n"
          ]
        },
        {
          "data": {
            "text/plain": [
              "array([       inf, 1.        , 0.5       , 0.33333333, 0.25      ,\n",
              "       0.2       , 0.16666667, 0.14285714, 0.125     , 0.11111111])"
            ]
          },
          "execution_count": 27,
          "metadata": {},
          "output_type": "execute_result"
        }
      ],
      "source": [
        "1 / arr"
      ]
    },
    {
      "cell_type": "code",
      "execution_count": 29,
      "metadata": {
        "colab": {
          "base_uri": "https://localhost:8080/"
        },
        "id": "8KXZL0vZZolV",
        "outputId": "871e2315-d379-4ff5-88bd-97f2d09665e7"
      },
      "outputs": [
        {
          "data": {
            "text/plain": [
              "array([ 0,  2,  4,  6,  8, 10, 12, 14, 16, 18])"
            ]
          },
          "execution_count": 29,
          "metadata": {},
          "output_type": "execute_result"
        }
      ],
      "source": [
        "arr + arr_2"
      ]
    },
    {
      "cell_type": "code",
      "execution_count": 28,
      "metadata": {
        "colab": {
          "base_uri": "https://localhost:8080/"
        },
        "id": "Ub6sqr2vZgje",
        "outputId": "03159b51-1894-419f-9fd3-01a9277700de"
      },
      "outputs": [
        {
          "data": {
            "text/plain": [
              "array([ 0,  1,  4,  9, 16, 25, 36, 49, 64, 81])"
            ]
          },
          "execution_count": 28,
          "metadata": {},
          "output_type": "execute_result"
        }
      ],
      "source": [
        "arr ** 2"
      ]
    },
    {
      "cell_type": "code",
      "execution_count": 31,
      "metadata": {
        "id": "kC3dmJs6Z9FG"
      },
      "outputs": [],
      "source": [
        "matriz = arr.reshape(2,5)\n",
        "matriz2 = matriz.copy()"
      ]
    },
    {
      "cell_type": "code",
      "execution_count": 32,
      "metadata": {
        "colab": {
          "base_uri": "https://localhost:8080/"
        },
        "id": "gINYk553aDzL",
        "outputId": "8d46d1b3-3aea-4261-ef12-8fc02d3bbfab"
      },
      "outputs": [
        {
          "data": {
            "text/plain": [
              "array([[0, 1, 2, 3, 4],\n",
              "       [5, 6, 7, 8, 9]])"
            ]
          },
          "execution_count": 32,
          "metadata": {},
          "output_type": "execute_result"
        }
      ],
      "source": [
        "matriz"
      ]
    },
    {
      "cell_type": "code",
      "execution_count": 33,
      "metadata": {
        "colab": {
          "base_uri": "https://localhost:8080/"
        },
        "id": "xlvm9M0VaKaE",
        "outputId": "7964fe44-930e-49a3-936a-401c8640bb6c"
      },
      "outputs": [
        {
          "data": {
            "text/plain": [
              "array([[ 0,  1,  4,  9, 16],\n",
              "       [25, 36, 49, 64, 81]])"
            ]
          },
          "execution_count": 33,
          "metadata": {},
          "output_type": "execute_result"
        }
      ],
      "source": [
        "matriz * matriz2"
      ]
    },
    {
      "cell_type": "code",
      "execution_count": 34,
      "metadata": {
        "colab": {
          "base_uri": "https://localhost:8080/"
        },
        "id": "0hTqaqQnahQ1",
        "outputId": "aa7ed85b-8c76-47f3-c1c8-df38498e994e"
      },
      "outputs": [
        {
          "data": {
            "text/plain": [
              "array([[0, 5],\n",
              "       [1, 6],\n",
              "       [2, 7],\n",
              "       [3, 8],\n",
              "       [4, 9]])"
            ]
          },
          "execution_count": 34,
          "metadata": {},
          "output_type": "execute_result"
        }
      ],
      "source": [
        "matriz2.T"
      ]
    },
    {
      "cell_type": "code",
      "execution_count": 36,
      "metadata": {
        "colab": {
          "base_uri": "https://localhost:8080/"
        },
        "id": "ah3zpGR0aYE7",
        "outputId": "97ac3f6a-0968-494d-a5a8-c37840b391ae"
      },
      "outputs": [
        {
          "data": {
            "text/plain": [
              "array([[ 30,  80],\n",
              "       [ 80, 255]])"
            ]
          },
          "execution_count": 36,
          "metadata": {},
          "output_type": "execute_result"
        }
      ],
      "source": [
        "# Producto punto\n",
        "np.matmul(matriz, matriz2.T)"
      ]
    },
    {
      "cell_type": "code",
      "execution_count": 37,
      "metadata": {
        "colab": {
          "base_uri": "https://localhost:8080/"
        },
        "id": "NuZoQN4_aurm",
        "outputId": "b8ebf449-e3e4-471e-d407-d70c478ba103"
      },
      "outputs": [
        {
          "data": {
            "text/plain": [
              "array([[ 30,  80],\n",
              "       [ 80, 255]])"
            ]
          },
          "execution_count": 37,
          "metadata": {},
          "output_type": "execute_result"
        }
      ],
      "source": [
        "# producto punto abreviado\n",
        "matriz @ matriz2.T"
      ]
    },
    {
      "attachments": {},
      "cell_type": "markdown",
      "metadata": {},
      "source": [
        "# **Pandas: Dataframes y series**"
      ]
    },
    {
      "cell_type": "code",
      "execution_count": 3,
      "metadata": {},
      "outputs": [
        {
          "ename": "ModuleNotFoundError",
          "evalue": "No module named 'pandas'",
          "output_type": "error",
          "traceback": [
            "\u001b[0;31m---------------------------------------------------------------------------\u001b[0m",
            "\u001b[0;31mModuleNotFoundError\u001b[0m                       Traceback (most recent call last)",
            "Cell \u001b[0;32mIn[3], line 1\u001b[0m\n\u001b[0;32m----> 1\u001b[0m \u001b[39mimport\u001b[39;00m \u001b[39mpandas\u001b[39;00m \u001b[39mas\u001b[39;00m \u001b[39mpd\u001b[39;00m\n",
            "\u001b[0;31mModuleNotFoundError\u001b[0m: No module named 'pandas'"
          ]
        }
      ],
      "source": [
        "import pandas as pd"
      ]
    },
    {
      "cell_type": "code",
      "execution_count": 1,
      "metadata": {},
      "outputs": [
        {
          "ename": "NameError",
          "evalue": "name 'pd' is not defined",
          "output_type": "error",
          "traceback": [
            "\u001b[0;31m---------------------------------------------------------------------------\u001b[0m",
            "\u001b[0;31mNameError\u001b[0m                                 Traceback (most recent call last)",
            "Cell \u001b[0;32mIn[1], line 1\u001b[0m\n\u001b[0;32m----> 1\u001b[0m psg_players \u001b[39m=\u001b[39m pd\u001b[39m.\u001b[39mSeries(\n\u001b[1;32m      2\u001b[0m     [\u001b[39m\"\u001b[39m\u001b[39mNavas\u001b[39m\u001b[39m\"\u001b[39m, \u001b[39m\"\u001b[39m\u001b[39mMbappe\u001b[39m\u001b[39m\"\u001b[39m, \u001b[39m\"\u001b[39m\u001b[39mNeymar\u001b[39m\u001b[39m\"\u001b[39m, \u001b[39m\"\u001b[39m\u001b[39mMessi\u001b[39m\u001b[39m\"\u001b[39m],\n\u001b[1;32m      3\u001b[0m     index\u001b[39m=\u001b[39m[\u001b[39m1\u001b[39m, \u001b[39m7\u001b[39m, \u001b[39m10\u001b[39m, \u001b[39m30\u001b[39m]\n\u001b[1;32m      4\u001b[0m )\n",
            "\u001b[0;31mNameError\u001b[0m: name 'pd' is not defined"
          ]
        }
      ],
      "source": [
        "psg_players = pd.Series(\n",
        "    [\"Navas\", \"Mbappe\", \"Neymar\", \"Messi\"],\n",
        "    index=[1, 7, 10, 30]\n",
        ")"
      ]
    }
  ],
  "metadata": {
    "colab": {
      "authorship_tag": "ABX9TyMjHEC1zShsuiWyfBbQG0Fr",
      "include_colab_link": true,
      "provenance": []
    },
    "kernelspec": {
      "display_name": "Python 3",
      "name": "python3"
    },
    "language_info": {
      "codemirror_mode": {
        "name": "ipython",
        "version": 3
      },
      "file_extension": ".py",
      "mimetype": "text/x-python",
      "name": "python",
      "nbconvert_exporter": "python",
      "pygments_lexer": "ipython3",
      "version": "3.11.3"
    }
  },
  "nbformat": 4,
  "nbformat_minor": 0
}
